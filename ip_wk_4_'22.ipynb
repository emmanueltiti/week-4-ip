{
  "nbformat": 4,
  "nbformat_minor": 0,
  "metadata": {
    "colab": {
      "name": "ip wk 4 '22",
      "private_outputs": true,
      "provenance": [],
      "authorship_tag": "ABX9TyOaZri33wm/erbAcrWUQvFi",
      "include_colab_link": true
    },
    "kernelspec": {
      "name": "python3",
      "display_name": "Python 3"
    },
    "language_info": {
      "name": "python"
    }
  },
  "cells": [
    {
      "cell_type": "markdown",
      "metadata": {
        "id": "view-in-github",
        "colab_type": "text"
      },
      "source": [
        "<a href=\"https://colab.research.google.com/github/emmanueltiti/week-4-ip/blob/main/ip_wk_4_'22.ipynb\" target=\"_parent\"><img src=\"https://colab.research.google.com/assets/colab-badge.svg\" alt=\"Open In Colab\"/></a>"
      ]
    },
    {
      "cell_type": "code",
      "execution_count": null,
      "metadata": {
        "id": "ALytceIq9uwx"
      },
      "outputs": [],
      "source": [
        "import numpy as np\n",
        "import pandas  as pd\n",
        "import seaborn as sns\n",
        "#loading the data\n",
        " \n",
        "df=pd.read_csv(\"http://bit.ly/DSCoreAutolibDataset\") \n",
        "df.head()"
      ]
    },
    {
      "cell_type": "code",
      "source": [
        "df.describe()"
      ],
      "metadata": {
        "id": "BzRCxIG9_KMA"
      },
      "execution_count": null,
      "outputs": []
    },
    {
      "cell_type": "code",
      "source": [
        "\n",
        "#some of the columns data tyoes need to be changed, namely date, dayOfweek into a date type and an object respectively\n",
        "df[\"date\"]=df['date'].astype('datetime64')\n",
        "df[\"dayOfWeek\"]=df['dayOfWeek'].astype('object')\n",
        "df.info()"
      ],
      "metadata": {
        "id": "ICUwwyA4CNmN"
      },
      "execution_count": null,
      "outputs": []
    },
    {
      "cell_type": "code",
      "source": [
        "df.isnull().sum()\n",
        "#The data has no  missing values hense data is clean"
      ],
      "metadata": {
        "id": "mn8D9aKr_XZx"
      },
      "execution_count": null,
      "outputs": []
    },
    {
      "cell_type": "code",
      "source": [
        "#cheking for outliers\n",
        "sns.boxplot(x=df['day_type'], y=df['BlueCars_taken_sum'])\n",
        "#from the plot we can see there are numerous value above the estimated upper quatile \n",
        "#droping these values will result in high levels of in accuracy that we would make \n",
        "#it is hence important to keep the value in place and \n"
      ],
      "metadata": {
        "id": "ZZfR1oGsIoyC"
      },
      "execution_count": null,
      "outputs": []
    },
    {
      "cell_type": "markdown",
      "source": [
        "**Hypothesis testing**\n",
        "\n",
        "\n",
        "Here we start testing our two formulated hypothesis. Our null being thet the avarage blue cars taken are equal for both the weekdays and the week ends"
      ],
      "metadata": {
        "id": "ybpKy-dIS1cr"
      }
    },
    {
      "cell_type": "code",
      "source": [
        "#We can start by making two seperate data frames for  the weekdays and the weekends \n",
        "df_weekday=df[[\"day_type\",\"BlueCars_taken_sum\"]]\n",
        "df_weekday.drop(df_weekday.index[df_weekday[\"day_type\"] == 'weekend'], inplace = True)\n",
        "sample_weekday=df_weekday.sample(frac=.75)\n",
        "sample_weekday1=sample_weekday.drop(\"day_type\",axis=1)\n",
        "sample_weekday1\n",
        "#df2 now contains only weekday records from which we could get our samples ie 75% of the popularion for accuracy\n"
      ],
      "metadata": {
        "id": "MUhzWAJ4qlcr"
      },
      "execution_count": null,
      "outputs": []
    },
    {
      "cell_type": "code",
      "source": [
        "##We do the same for the weekend data and obtain samples\n",
        "df_weekend=df[[\"day_type\",\"BlueCars_taken_sum\"]]\n",
        "df_weekend.drop(df_weekend.index[df_weekend[\"day_type\"] == 'weekday'], inplace = True)\n",
        "df_weekend.head()\n",
        "sample_weekend=df_weekend.sample(frac=.75)\n",
        "sample_weekend1=sample_weekend.drop(\"day_type\",axis=1)\n",
        "sample_weekend1"
      ],
      "metadata": {
        "id": "2lesGAzDv8NO"
      },
      "execution_count": null,
      "outputs": []
    },
    {
      "cell_type": "code",
      "source": [
        "import scipy.stats as stats \n",
        "import math"
      ],
      "metadata": {
        "id": "PBlf_kut_Bsg"
      },
      "execution_count": null,
      "outputs": []
    },
    {
      "cell_type": "code",
      "source": [
        "##We can now perform our t sample t-test\n",
        "stats.ttest_ind(a=sample_weekend1,b=sample_weekday1,equal_var=False)"
      ],
      "metadata": {
        "id": "9PvwDPa3wwKq"
      },
      "execution_count": null,
      "outputs": []
    },
    {
      "cell_type": "markdown",
      "source": [
        "**CONCLUSION**\n",
        "\n",
        "Our p value being too low ,lower than 0.05 we can then regect our null hypothesis thet the average blue cars taken on week days is same to those taken on weekends."
      ],
      "metadata": {
        "id": "sRdqbgBjELSR"
      }
    }
  ]
}